{
 "cells": [
  {
   "cell_type": "markdown",
   "metadata": {
    "collapsed": true,
    "id": "8be74937-b811-4175-9e87-d8df5103557b"
   },
   "source": [
    "# Real-time Patient Montioring with Streams and BioPy\n",
    "\n",
    "\n",
    "\n",
    "This notebook shows how to use Python to analyze medical data in real time using Streams and existing Python modules like BioSPPY and SciPy.\n",
    "\n",
    "It shows how the Streams health toolkit makes it easy for clinicians to get started developing applications to monitor patients in real time. \n",
    "\n",
    "<img src=\"https://raw.githubusercontent.com/IBMStreams/streamsx.health/develop/samples/HealthcareJupyterDemo/images/notebook-viz.gif\" alt=\"screenshot of running visualization\"/>\n",
    "    <p style=\"text-align: center; font-size: 10px;\"><em>Image showing the visualization using data from the Streams application.</em></p>\n",
    "\n",
    "## Streams Health Toolkit Overview\n",
    "\n",
    "The toolkit includes microservices to:\n",
    "- Ingest health data from popular devices and database, like Physionet.\n",
    "- Perform basic analysis: Early Warning Score (EWS) computation, ECG, etc.\n",
    "\n",
    " \n",
    "So for example, this notebook is going to analyze ECG signals to compute Heart Rate Variability using scipy. \n",
    "\n",
    "So instead of spending time writing a connector to the Physionet database to get the ECG data,  we can just use the Physionet microservice  from the health toolkit that gives us the data we need to start developing our application.\n",
    "\n",
    "\n",
    "The following diagram outlines the architecture of this demo. The **Ingest** part is handled by launching the Physionet ingest service, the notebook handles the **Analyze** portion.\n",
    "\n",
    "<img height=\"700\" width=\"900\" src='https://github.com/IBMStreams/streamsx.health/blob/develop/samples/HealthcareJupyterDemo/images/architecture_diagram.jpg?raw=true' alt=\"Demo Architecture\" title=\"Demo Architecture\"></img>\n"
   ]
  },
  {
   "cell_type": "markdown",
   "metadata": {
    "id": "1103a9da-205a-4eaa-8f4d-19a8827400b9"
   },
   "source": [
    "\n",
    "\n",
    "# Prerequisites\n",
    "\n",
    "This notebook can be used as-is from within an IBM Cloud Pak for Data project. \n",
    "\n",
    "If you are not running this notebook from within IBM Cloud Pak for Data, [follow these steps to make sure you have installed all the prerequisites](https://ibmstreams.github.io/streamsx.documentation/docs/python/1.6/python-appapi-devguide-2/).\n",
    "\n",
    "<a name=\"setup\"></a>\n",
    "\n",
    "# 1. Set up a connection to the Streams instance\n",
    "\n",
    "\n",
    "To submit the application for execution, you have to connect to the Streams instance. The information required to connect to the instance depends on the target installation of Streams. \n",
    "\n",
    "Choose the option that matches your development environment.\n",
    "\n",
    "- **Option 1**: [I'm running the notebook from an IBM Cloud for Data project](#cpd)\n",
    "- **Option 2**: [I'm using IBM Watson Studio, Jupyter Notebooks, or any other development environment](#notcpd)\n",
    "\n",
    "\n",
    "<a name=\"cpd\"></a>\n",
    "<a name=\"cpd\"></a>\n",
    "### Option 1: Connect to a Streams instance from an IBM Cloud Pak for Data  project\n",
    "\n",
    "If you are not running the notebook from a Cloud Pak for Data project, [skip to the next section](#notcpd). \n",
    "\n",
    "In order to submit a Streams application you need to provide the name of the Streams instance.\n",
    "\n",
    "1. From the navigation menu, click **Services > Instances**. This will take you to a list of instances.\n",
    "2. Find your streams instance and update the value of `streams_instance_name` in the cell below according to your Streams instance name.\n",
    "3. Run the cell and skip to section 1.2\n",
    "\n",
    "The cell below defines a function called `submit_topology` that will be used later on to submit the `Topology` once it is defined.\n",
    "\n"
   ]
  },
  {
   "cell_type": "code",
   "execution_count": null,
   "metadata": {
    "id": "d9faeea5-d77a-4533-b038-2f018fe995f6"
   },
   "outputs": [],
   "source": [
    "from icpd_core import icpd_util\n",
    "from streamsx.topology.context import JobConfig\n",
    "from streamsx.topology import context\n",
    "\n",
    "streams_instance_name =  ## Change this to Streams instance\n",
    "\n",
    "try:\n",
    "    cfg=icpd_util.get_service_instance_details(name=streams_instance_name, instance_type=\"streams\")\n",
    "except TypeError:\n",
    "    cfg=icpd_util.get_service_instance_details(name=streams_instance_name)\n",
    "\n",
    "    \n",
    "def submit_topology(topo):\n",
    "    global cfg\n",
    "\n",
    "    # Disable SSL certificate verification if necessary\n",
    "    cfg[context.ConfigParams.SSL_VERIFY] = False\n",
    "    # Topology wil be deployed as a distributed app\n",
    "    contextType = context.ContextTypes.DISTRIBUTED\n",
    "    return context.submit (contextType, topo, config = cfg)    \n",
    "\n",
    "if cfg:\n",
    "    print(\"Successfully set up connection to Streams instance\")"
   ]
  },
  {
   "cell_type": "markdown",
   "metadata": {
    "id": "b54d3140-50b1-48a8-9c7e-51b6b3867866"
   },
   "source": [
    "<a name=\"notcpd\"></a>\n",
    "### Option 2: Connect to a Streams instance from IBM Watson Studio and other environments\n",
    "\n",
    "*Skip this section if you are running the notebook from a Cloud Pak for Data project.*\n",
    "\n",
    "The code for each scenario is available in the development guide.  \n",
    "Each snippet will define a function called `submit_topology` that will be used later on to submit the `Topology` once it is defined.\n",
    "\n",
    "- Choose the tab that best matches your environment. \n",
    "- Copy the code under the heading **Copy this code snippet**.\n",
    "- Paste it in the cell below.\n",
    "\n",
    "    [Connection instructions from the development guide](https://ibmstreams.github.io/streamsx.documentation/docs/python/1.6/python-appapi-devguide-2/#connect)\n"
   ]
  },
  {
   "cell_type": "code",
   "execution_count": null,
   "metadata": {
    "id": "a8dde69f-8ad7-4679-b24c-bf351e7025f5"
   },
   "outputs": [],
   "source": [
    "# paste connection code here"
   ]
  },
  {
   "cell_type": "markdown",
   "metadata": {
    "id": "4ef27f05-afa4-4f6a-be52-819317193f9e"
   },
   "source": [
    "### 1.2 Install required modules\n",
    "\n",
    "This notebook requires version 1.14.13 or later of the `streamsx` package. Check the version below and upgrade if needed."
   ]
  },
  {
   "cell_type": "code",
   "execution_count": null,
   "metadata": {
    "id": "803c7e64-68a9-4598-bab9-7dedfc6a2978"
   },
   "outputs": [],
   "source": [
    "\n",
    "import sys\n",
    "import streamsx.topology.context\n",
    "print(\"INFO: streamsx package version: \" + streamsx.topology.context.__version__)\n",
    "\n",
    "\n",
    "#For more details uncomment line below.\n",
    "#!pip show streamsx\n",
    "\n",
    "# Uncomment this line to upgrade the streamsx package\n",
    "#!pip install --user --upgrade streamsx"
   ]
  },
  {
   "cell_type": "markdown",
   "metadata": {
    "id": "43cccedf-94b9-484c-8ba1-cfc84e056c9a"
   },
   "source": [
    "### Import the healthdemo utility package\n",
    "This is a set of utilities from the streamsx.health package used in this application"
   ]
  },
  {
   "cell_type": "code",
   "execution_count": null,
   "metadata": {
    "id": "43b78438-695b-4e62-81e8-e8cfcc230a8f",
    "nbpresent": {
     "id": "721305e1-fa39-4010-9eb4-bf155218370c"
    },
    "scrolled": true
   },
   "outputs": [],
   "source": [
    "!pip install  \"https://github.com/IBMStreams/streamsx.health/raw/develop/samples/HealthcareJupyterDemo/whl/healthdemo-1.0-py3-none-any.whl\""
   ]
  },
  {
   "cell_type": "markdown",
   "metadata": {
    "id": "10723f54-c3d4-49ad-bdc8-9e5efd7b8e73"
   },
   "source": [
    "\n",
    "<a id=\"createfeed\"></a>\n",
    "## Step 2: Start the Physionet ingest service\n",
    "\n",
    "We will analyze simulated data generated by a pre-compiled Streams application called the`PhysionetIngestService`. This is a [microservice](https://community.ibm.com/community/user/cloudpakfordata/viewdocument/analytics-microservice-architecture?CommunityKey=c0c16ff2-10ef-4b50-ae4c-57d769937235&tab=librarydocuments&LibraryFolderKey=fb0a8bfd-6210-4de7-b2d0-1dc0c8c5aace&DefaultView=folder), or small application that retrieves patient waveform and vital data from a Physionet database (https://www.physionet.org/) and makes it available to other applications.  The Python application we will create later in this notebook will connect to the `PhysionetIngestService` service.\n",
    "\n",
    "To start the `PhysionetIngestService`, \n",
    "\n",
    "1. Download and save the compiled application: https://github.com/IBMStreams/streamsx.health/releases/download/v0.1/com.ibm.streamsx.health.physionet.PhysionetIngestServiceMulti.sab. \n",
    "1. First open the Streams Console:\n",
    "    * From IBM Cloud Pak for Data: \n",
    "        * From the navigation menu, click **Services > Instances**.\n",
    "        * Click on your Streams instance. \n",
    "        * In the details page that opens, look for the list of **Streams external endpoints**.\n",
    "        * Click the **Console** link to open the Streams Console.\n",
    "\n",
    "    * If you are not using Cloud Pak for Data, see this [document for steps to open the Streams Console in your installation](https://community.ibm.com/community/user/cloudpakfordata/viewdocument/streams-console-overview?CommunityKey=c0c16ff2-10ef-4b50-ae4c-57d769937235&tab=librarydocuments#open).\n",
    "2. From the Streams Console, click Submit job:\n",
    "    ![submit job icon](http://ibmstreams.github.io/streamsx.documentation/images/atom/jpg/submit-play.jpg)\n",
    "\n",
    "3. Select the `.sab` file you downloaded earlier, and click *Submit*. \n",
    "\n",
    "4. Click *Submit*.\n",
    "\n",
    "5. Click *OK* in the *Submission-time parameters* dialog.\n",
    "\n"
   ]
  },
  {
   "cell_type": "markdown",
   "metadata": {
    "id": "0ccb6f55-2aa7-4d71-8afd-66f472748b2d",
    "nbpresent": {
     "id": "57cc4392-d899-4354-8bbf-45a6322f5efd"
    }
   },
   "source": [
    "<a id=\"buildapp\"></a>\n",
    "## Step 3: Build a streaming app\n",
    "\n",
    "Now you're ready to create and run the **HealthcareDemo** Python streaming application.\n",
    "\n",
    "The following cell contains source code for the Python Topology application. This is a Python streaming application that ingests the patient data from the *ingest-physionet* topic, and performs analysis on the patient data to calculate vital data for all patients. It finally creates a view for displaying the result of the analysis."
   ]
  },
  {
   "cell_type": "code",
   "execution_count": null,
   "metadata": {
    "id": "0d1265e3-9d44-4909-a950-082e9282088e",
    "scrolled": false
   },
   "outputs": [],
   "source": [
    "from streamsx.topology import schema\n",
    "from streamsx.topology.topology import Topology\n",
    "from streamsx.topology.context import submit\n",
    "\n",
    "## The healthdemo package provides tools to analyze patient data\n",
    "## See https://github.com/IBMStreams/streamsx.health/tree/develop/samples/HealthcareJupyterDemo/package\n",
    "from healthdemo.patientmonitoring_functions import streaming_rpeak\n",
    "from healthdemo.healthcare_functions import GenTimestamp, aggregate\n",
    "from healthdemo.windows import SlidingWindow\n",
    "from healthdemo.utils import get_patient_id\n",
    "\n",
    "topo = Topology('PatientMonitoringDemo')\n",
    "\n",
    "## The ingest-physionet provides data at a rate of 125 tuples/sec\n",
    "sample_rate = 125\n",
    "\n",
    "## Subscribe to the topic\n",
    "patients_data_source = topo.subscribe('ingest-physionet', schema.CommonSchema.Json)\n",
    "            \n",
    "## Add timestamp to the data, so you can perform windowing\n",
    "patients_data_source = patients_data_source.map(GenTimestamp(sample_rate))\n",
    "\n",
    "## Generate a window based on the provided sample_rate\n",
    "patients_data_window = patients_data_source.last(size=sample_rate).trigger(sample_rate-1).partition(get_patient_id)\n",
    "\n",
    "## Aggregate the data within the window and create a tuple\n",
    "patients_data = patients_data_window.aggregate(aggregate)\n",
    "\n",
    "\n",
    "## Process data from 'ECG Lead II' and calculate RPeak and RR delta\n",
    "patients_data = streaming_rpeak(patients_data, sample_rate, data_label='ECG Lead II')\n",
    "\n",
    "## Create view for viewing patient vital data\n",
    "patients_vital = patients_data.view(name='patients_vitals')\n",
    "\n",
    "\n",
    "## include the healthdemo package so it is accessible at runtime\n",
    "topo.add_pip_package(requirement=\"https://github.com/IBMStreams/streamsx.health/raw/develop/samples/HealthcareJupyterDemo/whl/healthdemo-1.0-py3-none-any.whl\",\n",
    "                     name=\"healthdemo\")\n",
    "\n",
    "\n",
    "print (\"Submitting topology for execution..\")\n",
    "result = submit_topology(topo)\n",
    "if (result and result.job):\n",
    "    print (\"Submitted job successfully, job id: \" + str(result.job.id))"
   ]
  },
  {
   "cell_type": "markdown",
   "metadata": {
    "id": "20883da7-5f0e-4634-855e-6e2d0414a59c"
   },
   "source": [
    "<a id=\"visualization\"></a>\n",
    "## Part 4: Visualization\n",
    "\n",
    "Complete the following steps to visualize the results of your app:\n",
    "\n",
    "[4.1 Set up graphs for plotting patient vitals](#setupgraphs)<br>\n",
    "[4.2 Provide data for the graphs](#providedata)<br>\n",
    "[4.3 Display the graphs](#displaygraphs)<br>\n",
    "\n",
    "<a id=\"setupgraphs\"></a>\n",
    "### 4.1 Set up graphs for plotting patient vitals\n",
    "\n",
    "This cell initializes the nine graphs which will be used to display one patient's vital data.\n",
    "\n",
    "Each property of the patient's vital data is identified by the signal label. Each graph is initialized by providing the signal label it plots and a title."
   ]
  },
  {
   "cell_type": "code",
   "execution_count": null,
   "metadata": {
    "id": "6f013706-eb7a-41cf-a436-096e8f507186"
   },
   "outputs": [],
   "source": [
    "## load BokehJS visualization library (must be loaded in a separate cell)\n",
    "from bokeh.io import output_notebook, push_notebook\n",
    "from bokeh.resources import INLINE\n",
    "output_notebook(resources=INLINE)\n",
    "%autosave 0\n",
    "%reload_ext autoreload\n",
    "%autoreload 1\n",
    "\n",
    "\n",
    "from healthdemo.medgraphs import ECGGraph, PoincareGraph, NumericText, ABPNumericText\n",
    "\n",
    "## Select which patient's data to plot\n",
    "patientId = 'patient-1'\n",
    "\n",
    "graph = {\n",
    "    'leadII_poincare': PoincareGraph(signal_label='Poincare - ECG Lead II', title='Poincare - ECG Lead II'),\n",
    "    'ecg_leadII_graph': ECGGraph(signal_label='ECG Lead II', title='ECG Lead II', \n",
    "                                 plot_width=600, min_range=-0.5, max_range=2.0),\n",
    "    'ecg_leadV_graph': ECGGraph(signal_label='ECG Lead V', title='ECG Lead V', plot_width=600),\n",
    "    'resp_graph': ECGGraph(signal_label='Resp', title='Resp', min_range=-1, max_range=3, plot_width=600),\n",
    "    'pleth_graph': ECGGraph(signal_label='Pleth', title='Pleth', min_range=0, max_range=5, plot_width=600),\n",
    "    'hr_numeric': NumericText(signal_label='HR', title='HR', color='#7cc7ff'),\n",
    "    'pulse_numeric': NumericText(signal_label='PULSE', title='PULSE', color='#e71d32'),\n",
    "    'spo2_numeric': NumericText(signal_label='SpO2', title='SpO2', color='#8cd211'),\n",
    "    'abp_numeric': ABPNumericText(abp_sys_label='ABP Systolic', abp_dia_label='ABP Diastolic', \n",
    "                                  title='ABP', color='#fdd600')            \n",
    "}\n",
    "\n",
    "print (\"DONE\")"
   ]
  },
  {
   "cell_type": "markdown",
   "metadata": {
    "id": "aae7fd64-1ba7-4277-9183-41ec48054255"
   },
   "source": [
    "<a id=\"providedata\"></a>\n",
    "### 4.2 Provide data for the graphs\n",
    "\n",
    "This cell is responsible for propagating the graph objects with data in the view.\n",
    "\n",
    "The view data contains vital data for all patients, and is continuously retrieved from the Streaming Analytics service in a background job. Each graph object receives data for a specified patient. The graph objects extract and store the data that is relevant for that particular graph."
   ]
  },
  {
   "cell_type": "code",
   "execution_count": null,
   "metadata": {
    "id": "cf2f7f0f-207a-4345-b95d-c067c3c3f3d7",
    "nbpresent": {
     "id": "b72a8e1e-e623-4d76-8251-76680be593ee"
    }
   },
   "outputs": [],
   "source": [
    "from healthdemo.utils import get_patient_id\n",
    "\n",
    "patients_vital = patients_vital\n",
    "continue_data_collection = True\n",
    "\n",
    "## retrieve data from Streams view in a background job\n",
    "def data_collector(view, g):\n",
    "    queue = view.start_data_fetch()\n",
    "    while continue_data_collection:\n",
    "        tup = queue.get()\n",
    "        if patientId == get_patient_id(tup):\n",
    "            for graphtype in g:\n",
    "                g[graphtype].add(tup)\n",
    "    view.stop_data_fetch()\n",
    "            \n",
    "from IPython.lib import backgroundjobs as bg\n",
    "jobs = bg.BackgroundJobManager()\n",
    "jobs.new(data_collector, patients_vital, graph)"
   ]
  },
  {
   "cell_type": "markdown",
   "metadata": {
    "id": "590e5977-0740-4ce5-b86c-63ac569fa942",
    "nbpresent": {
     "id": "a6e444c6-cd12-436d-94a4-410e8fce7fd3"
    }
   },
   "source": [
    "<a id=\"displaygraphs\"></a>\n",
    "### 4.3 Display the graphs\n",
    "\n",
    "This cell is responsible for laying out and displaying the graphs. \n",
    "\n",
    "Each time a call to ```update()``` is made on a graph object, the next data point is retrieved and displayed. Each graph object maintains an internal queue so that each time a call to ```update()``` is made, the next element in the queue is retrieved and removed.\n",
    "\n",
    "There is a loop that continuously calls the ```update()``` method on each of the graphs for 60 seconds. After each graph has been updated, a call to ```push_notebook()``` is made, which causes the notebook to update the graphics.\n",
    "\n",
    "The graphs will stop updating after 60 seconds. To extend the period for graph update, change the ````timeout```` variable.\n",
    "\n",
    "\n",
    "To restart graph updates after the timeout period:\n",
    "\n",
    "1. Rerun the cell in [4.2 Provide data for the graphs](#providedata) to restart the background thread to fetch data.\n",
    "2. Rerun the cell in this section to restart graph updates.\n"
   ]
  },
  {
   "cell_type": "code",
   "execution_count": null,
   "metadata": {
    "id": "4c2a55ce-9ef5-46ac-987e-61998ac58763",
    "nbpresent": {
     "id": "a39590c1-697b-49cc-aecb-37c5afe939ed"
    },
    "scrolled": false
   },
   "outputs": [],
   "source": [
    "import time\n",
    "from bokeh.io import show\n",
    "from bokeh.layouts import column, row, widgetbox\n",
    "import bokeh\n",
    "\n",
    "enableHandle = True\n",
    "\n",
    "## display graphs for a patient\n",
    "t = show(\n",
    "    row(\n",
    "        column(\n",
    "            graph['ecg_leadII_graph'].get_figure(), \n",
    "            graph['ecg_leadV_graph'].get_figure(), \n",
    "            graph['resp_graph'].get_figure(),\n",
    "            graph['pleth_graph'].get_figure()\n",
    "        ), \n",
    "        column(\n",
    "            graph['leadII_poincare'].get_figure(),\n",
    "            widgetbox(graph['hr_numeric'].get_figure()),\n",
    "            widgetbox(graph['pulse_numeric'].get_figure()),\n",
    "            widgetbox(graph['spo2_numeric'].get_figure()),\n",
    "            widgetbox(graph['abp_numeric'].get_figure())\n",
    "        )\n",
    "    ),\n",
    "    \n",
    "    notebook_handle=enableHandle\n",
    ")\n",
    "\n",
    "## Timeout(in seconds) before stopping the graph\n",
    "timeout = 30\n",
    "endtime = time.time() + timeout\n",
    "\n",
    "cnt = 0\n",
    "while time.time() < endtime:\n",
    "    ## update graphs\n",
    "    for graphtype in graph:\n",
    "        graph[graphtype].update()\n",
    "\n",
    "    ## update notebook \n",
    "    cnt += 1\n",
    "    if cnt % 5 == 0:\n",
    "        #output_notebook()\n",
    "        #show(..., notebook_handle=True)\n",
    "        push_notebook(handle=t) ## refresh the graphs\n",
    "        cnt = 0\n",
    "    time.sleep(0.008)\n",
    "    \n",
    "# Stop data collection running in background thread\n",
    "continue_data_collection = False"
   ]
  },
  {
   "cell_type": "markdown",
   "metadata": {
    "collapsed": true,
    "id": "4f67b632-7d06-4cd4-8bea-432801422679"
   },
   "source": [
    "To plot the graph for a different patient, change `patientId` in [4.1 Setup graphs for plotting patient vitals](#setupgraphs), and rerun the cells."
   ]
  },
  {
   "cell_type": "markdown",
   "metadata": {
    "id": "44dde41d-492e-4ad6-a2cd-cc1ee97599cc"
   },
   "source": [
    "## Useful Links\n",
    "\n",
    "- [Streams Health Toolkit on GitHub](https://github.com/IBMStreams/streamsx.health)\n",
    "- [Python API Development Guide](https://ibmstreams.github.io/streamsx.documentation/docs/python/1.6/python-appapi-devguide/)\n",
    "- [Find more samples in the samples repository on GitHub](https://ibmstreams.github.io/samples)\n",
    "- [Connect with Streams developers in the Streams community](https://ibm.biz/streams-community)"
   ]
  }
 ],
 "metadata": {
  "anaconda-cloud": {},
  "kernelspec": {
   "display_name": "Python 3.6",
   "language": "python",
   "name": "python3"
  },
  "language_info": {
   "codemirror_mode": {
    "name": "ipython",
    "version": 3
   },
   "file_extension": ".py",
   "mimetype": "text/x-python",
   "name": "python",
   "nbconvert_exporter": "python",
   "pygments_lexer": "ipython3",
   "version": "3.6.10"
  },
  "nbpresent": {
   "slides": {},
   "themes": {
    "default": "577e4657-0ca5-402b-869f-f2a36c2257ab",
    "theme": {
     "577e4657-0ca5-402b-869f-f2a36c2257ab": {
      "backgrounds": {
       "dc7afa04-bf90-40b1-82a5-726e3cff5267": {
        "background-color": "31af15d2-7e15-44c5-ab5e-e04b16a89eff",
        "id": "dc7afa04-bf90-40b1-82a5-726e3cff5267"
       }
      },
      "id": "577e4657-0ca5-402b-869f-f2a36c2257ab",
      "palette": {
       "19cc588f-0593-49c9-9f4b-e4d7cc113b1c": {
        "id": "19cc588f-0593-49c9-9f4b-e4d7cc113b1c",
        "rgb": [
         252,
         252,
         252
        ]
       },
       "31af15d2-7e15-44c5-ab5e-e04b16a89eff": {
        "id": "31af15d2-7e15-44c5-ab5e-e04b16a89eff",
        "rgb": [
         68,
         68,
         68
        ]
       },
       "50f92c45-a630-455b-aec3-788680ec7410": {
        "id": "50f92c45-a630-455b-aec3-788680ec7410",
        "rgb": [
         197,
         226,
         245
        ]
       },
       "c5cc3653-2ee1-402a-aba2-7caae1da4f6c": {
        "id": "c5cc3653-2ee1-402a-aba2-7caae1da4f6c",
        "rgb": [
         43,
         126,
         184
        ]
       },
       "efa7f048-9acb-414c-8b04-a26811511a21": {
        "id": "efa7f048-9acb-414c-8b04-a26811511a21",
        "rgb": [
         25.118061674008803,
         73.60176211453744,
         107.4819383259912
        ]
       }
      },
      "rules": {
       "a": {
        "color": "19cc588f-0593-49c9-9f4b-e4d7cc113b1c"
       },
       "blockquote": {
        "color": "50f92c45-a630-455b-aec3-788680ec7410",
        "font-size": 3
       },
       "code": {
        "font-family": "Anonymous Pro"
       },
       "h1": {
        "color": "19cc588f-0593-49c9-9f4b-e4d7cc113b1c",
        "font-family": "Merriweather",
        "font-size": 8
       },
       "h2": {
        "color": "19cc588f-0593-49c9-9f4b-e4d7cc113b1c",
        "font-family": "Merriweather",
        "font-size": 6
       },
       "h3": {
        "color": "50f92c45-a630-455b-aec3-788680ec7410",
        "font-family": "Lato",
        "font-size": 5.5
       },
       "h4": {
        "color": "c5cc3653-2ee1-402a-aba2-7caae1da4f6c",
        "font-family": "Lato",
        "font-size": 5
       },
       "h5": {
        "font-family": "Lato"
       },
       "h6": {
        "font-family": "Lato"
       },
       "h7": {
        "font-family": "Lato"
       },
       "li": {
        "color": "50f92c45-a630-455b-aec3-788680ec7410",
        "font-size": 3.25
       },
       "pre": {
        "font-family": "Anonymous Pro",
        "font-size": 4
       }
      },
      "text-base": {
       "color": "19cc588f-0593-49c9-9f4b-e4d7cc113b1c",
       "font-family": "Lato",
       "font-size": 4
      }
     }
    }
   }
  }
 },
 "nbformat": 4,
 "nbformat_minor": 4
}
